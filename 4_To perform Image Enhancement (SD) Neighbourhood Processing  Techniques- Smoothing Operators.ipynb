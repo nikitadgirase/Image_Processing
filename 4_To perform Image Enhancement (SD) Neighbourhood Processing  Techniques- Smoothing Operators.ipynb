{
 "cells": [
  {
   "cell_type": "code",
   "execution_count": 2,
   "id": "17770e2d",
   "metadata": {},
   "outputs": [
    {
     "data": {
      "text/plain": [
       "True"
      ]
     },
     "execution_count": 2,
     "metadata": {},
     "output_type": "execute_result"
    }
   ],
   "source": [
    "#Averaging Filter: \n",
    "# Low Pass SPatial Domain Filtering\n",
    "# to observe the blurring effect\n",
    "\n",
    "\n",
    "import cv2\n",
    "import numpy as np\n",
    "\n",
    "\t\n",
    "# Read the image\n",
    "img = cv2.imread('input.png', 0)\n",
    "\n",
    "# Obtain number of rows and columns\n",
    "# of the image\n",
    "m, n = img.shape\n",
    "\n",
    "# Develop Averaging filter(3, 3) mask\n",
    "mask = np.ones([3, 3], dtype = int)\n",
    "mask = mask / 9\n",
    "\n",
    "# Convolve the 3X3 mask over the image\n",
    "img_new = np.zeros([m, n])\n",
    "\n",
    "for i in range(1, m-1):\n",
    "\tfor j in range(1, n-1):\n",
    "\t\ttemp = img[i-1, j-1]*mask[0, 0]+img[i-1, j]*mask[0, 1]+img[i-1, j + 1]*mask[0, 2]+img[i, j-1]*mask[1, 0]+ img[i, j]*mask[1, 1]+img[i, j + 1]*mask[1, 2]+img[i + 1, j-1]*mask[2, 0]+img[i + 1, j]*mask[2, 1]+img[i + 1, j + 1]*mask[2, 2]\n",
    "\t\t\n",
    "\t\timg_new[i, j]= temp\n",
    "\t\t\n",
    "img_new = img_new.astype(np.uint8)\n",
    "cv2.imwrite('blurred.tif', img_new)\n"
   ]
  },
  {
   "cell_type": "code",
   "execution_count": 4,
   "id": "6a7c6d72",
   "metadata": {},
   "outputs": [
    {
     "data": {
      "text/plain": [
       "True"
      ]
     },
     "execution_count": 4,
     "metadata": {},
     "output_type": "execute_result"
    }
   ],
   "source": [
    "#Median Filtering: \n",
    "# Median Spatial Domain Filtering\n",
    "\n",
    "\n",
    "import cv2\n",
    "import numpy as np\n",
    "\n",
    "\n",
    "# Read the image\n",
    "img_noisy1 = cv2.imread('input.png', 0)\n",
    "\n",
    "# Obtain the number of rows and columns\n",
    "# of the image\n",
    "m, n = img_noisy1.shape\n",
    "\n",
    "# Traverse the image. For every 3X3 area,\n",
    "# find the median of the pixels and\n",
    "# replace the center pixel by the median\n",
    "img_new1 = np.zeros([m, n])\n",
    "\n",
    "for i in range(1, m-1):\n",
    "\tfor j in range(1, n-1):\n",
    "\t\ttemp = [img_noisy1[i-1, j-1],\n",
    "\t\t\timg_noisy1[i-1, j],\n",
    "\t\t\timg_noisy1[i-1, j + 1],\n",
    "\t\t\timg_noisy1[i, j-1],\n",
    "\t\t\timg_noisy1[i, j],\n",
    "\t\t\timg_noisy1[i, j + 1],\n",
    "\t\t\timg_noisy1[i + 1, j-1],\n",
    "\t\t\timg_noisy1[i + 1, j],\n",
    "\t\t\timg_noisy1[i + 1, j + 1]]\n",
    "\t\t\n",
    "\t\ttemp = sorted(temp)\n",
    "\t\timg_new1[i, j]= temp[4]\n",
    "\n",
    "img_new1 = img_new1.astype(np.uint8)\n",
    "cv2.imwrite('new_median_filtered.png', img_new1)\n",
    "\n"
   ]
  },
  {
   "cell_type": "code",
   "execution_count": null,
   "id": "7f9de4f6",
   "metadata": {},
   "outputs": [],
   "source": []
  }
 ],
 "metadata": {
  "kernelspec": {
   "display_name": "Python 3 (ipykernel)",
   "language": "python",
   "name": "python3"
  },
  "language_info": {
   "codemirror_mode": {
    "name": "ipython",
    "version": 3
   },
   "file_extension": ".py",
   "mimetype": "text/x-python",
   "name": "python",
   "nbconvert_exporter": "python",
   "pygments_lexer": "ipython3",
   "version": "3.11.0"
  }
 },
 "nbformat": 4,
 "nbformat_minor": 5
}
