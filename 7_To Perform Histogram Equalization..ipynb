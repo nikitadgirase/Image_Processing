{
 "cells": [
  {
   "cell_type": "code",
   "execution_count": null,
   "id": "02008073",
   "metadata": {},
   "outputs": [],
   "source": [
    "import numpy as np\n",
    "from PIL import Image\n",
    "\n",
    "img_filename = 'dog.png'\n",
    "save_filename = 'output_image.jpg'\n",
    "#load file as pillow Image \n",
    "img = Image.open(img_filename)\n",
    "\n",
    "# convert to grayscale\n",
    "imgray = img.convert(mode='L')\n",
    "\n",
    "#convert to NumPy array\n",
    "img_array = np.asarray(imgray)\n",
    "\n",
    "\"\"\"\n",
    "STEP 1: Normalized cumulative histogram\n",
    "\"\"\"\n",
    "#flatten image array and calculate histogram via binning\n",
    "histogram_array = np.bincount(img_array.flatten(), minlength=256)\n",
    "\n",
    "#normalize\n",
    "num_pixels = np.sum(histogram_array)\n",
    "histogram_array = histogram_array/num_pixels\n",
    "\n",
    "#normalized cumulative histogram\n",
    "chistogram_array = np.cumsum(histogram_array)\n",
    "\n",
    "\n",
    "\"\"\"\n",
    "STEP 2: Pixel mapping lookup table\n",
    "\"\"\"\n",
    "transform_map = np.floor(255 * chistogram_array).astype(np.uint8)\n",
    "\n",
    "\n",
    "\"\"\"\n",
    "STEP 3: Transformation\n",
    "\"\"\"\n",
    "# flatten image array into 1D list\n",
    "img_list = list(img_array.flatten())\n",
    "\n",
    "# transform pixel values to equalize\n",
    "eq_img_list = [transform_map[p] for p in img_list]\n",
    "\n",
    "# reshape and write back into img_array\n",
    "eq_img_array = np.reshape(np.asarray(eq_img_list), img_array.shape)\n",
    "#convert NumPy array to pillow Image and write to file\n",
    "eq_img = Image.fromarray(eq_img_array, mode='L')\n",
    "eq_img.save(save_filename)\n",
    "Image.open('output_image.jpg')"
   ]
  }
 ],
 "metadata": {
  "kernelspec": {
   "display_name": "Python 3 (ipykernel)",
   "language": "python",
   "name": "python3"
  },
  "language_info": {
   "codemirror_mode": {
    "name": "ipython",
    "version": 3
   },
   "file_extension": ".py",
   "mimetype": "text/x-python",
   "name": "python",
   "nbconvert_exporter": "python",
   "pygments_lexer": "ipython3",
   "version": "3.11.0"
  }
 },
 "nbformat": 4,
 "nbformat_minor": 5
}
