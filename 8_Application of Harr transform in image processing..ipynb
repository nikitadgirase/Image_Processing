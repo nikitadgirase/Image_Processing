{
 "cells": [
  {
   "cell_type": "code",
   "execution_count": null,
   "id": "06ec9e3f",
   "metadata": {},
   "outputs": [],
   "source": [
    "# importing various libraries\n",
    "import numpy as np\n",
    "import mahotas\n",
    "import mahotas.demos\n",
    "from mahotas.thresholding import soft_threshold\n",
    "from pylab import imshow, show\n",
    "from os import path\n",
    "\n",
    "# loading image\n",
    "f = mahotas.demos.load('luispedro', as_grey = True)\n",
    "\n",
    "\n",
    "# showing image\n",
    "print(\"Image\")\n",
    "\n",
    "imshow(f)\n",
    "show()\n",
    "\n",
    "# haar transform\n",
    "h = mahotas.haar(f)\n",
    "\n",
    "# showing image\n",
    "print(\"Image with haar transform\")\n",
    "imshow(h)\n",
    "show()\n"
   ]
  },
  {
   "cell_type": "code",
   "execution_count": null,
   "id": "28498d03",
   "metadata": {},
   "outputs": [],
   "source": [
    "\n"
   ]
  },
  {
   "cell_type": "code",
   "execution_count": 1,
   "id": "74116640",
   "metadata": {},
   "outputs": [],
   "source": [
    "\n"
   ]
  },
  {
   "cell_type": "code",
   "execution_count": null,
   "id": "5da9bbb2",
   "metadata": {},
   "outputs": [],
   "source": [
    "\n"
   ]
  },
  {
   "cell_type": "code",
   "execution_count": null,
   "id": "466d80f5",
   "metadata": {},
   "outputs": [],
   "source": []
  }
 ],
 "metadata": {
  "kernelspec": {
   "display_name": "Python 3 (ipykernel)",
   "language": "python",
   "name": "python3"
  },
  "language_info": {
   "codemirror_mode": {
    "name": "ipython",
    "version": 3
   },
   "file_extension": ".py",
   "mimetype": "text/x-python",
   "name": "python",
   "nbconvert_exporter": "python",
   "pygments_lexer": "ipython3",
   "version": "3.11.0"
  }
 },
 "nbformat": 4,
 "nbformat_minor": 5
}
