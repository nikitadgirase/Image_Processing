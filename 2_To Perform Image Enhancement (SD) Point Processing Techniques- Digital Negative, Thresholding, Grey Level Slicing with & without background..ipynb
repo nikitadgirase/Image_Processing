{
 "cells": [
  {
   "cell_type": "code",
   "execution_count": 1,
   "id": "7eba6ac5",
   "metadata": {},
   "outputs": [],
   "source": [
    "import cv2\n",
    "import numpy as np"
   ]
  },
  {
   "cell_type": "code",
   "execution_count": 2,
   "id": "96514253",
   "metadata": {},
   "outputs": [],
   "source": [
    "# Image negative\n",
    "img = cv2.imread('cameraman1.png',0)"
   ]
  },
  {
   "cell_type": "code",
   "execution_count": 3,
   "id": "1ab148b5",
   "metadata": {},
   "outputs": [],
   "source": [
    "# To ascertain total numbers of\n",
    "# rows and columns of the image,\n",
    "# size of the image\n",
    "m,n = img.shape"
   ]
  },
  {
   "cell_type": "code",
   "execution_count": 4,
   "id": "b8c32444",
   "metadata": {},
   "outputs": [],
   "source": [
    "# To find the maximum grey level\n",
    "# value in the image\n",
    "L = img.max()"
   ]
  },
  {
   "cell_type": "code",
   "execution_count": 5,
   "id": "44e64f71",
   "metadata": {},
   "outputs": [],
   "source": [
    "# Maximum grey level value  minus\n",
    "# the original image gives the\n",
    "# negative image\n",
    "img_neg = L-img"
   ]
  },
  {
   "cell_type": "code",
   "execution_count": 6,
   "id": "8e12940d",
   "metadata": {},
   "outputs": [
    {
     "data": {
      "text/plain": [
       "True"
      ]
     },
     "execution_count": 6,
     "metadata": {},
     "output_type": "execute_result"
    }
   ],
   "source": [
    "# convert the np array img_neg to\n",
    "# a png image\n",
    "cv2.imwrite('Cameraman_Negative.png', img_neg)\n",
    "  "
   ]
  },
  {
   "cell_type": "code",
   "execution_count": 7,
   "id": "1f005e22",
   "metadata": {},
   "outputs": [],
   "source": [
    "# Thresholding without background\n",
    "# Let threshold =T\n",
    "# Let pixel value in the original be denoted by r\n",
    "# Let pixel value in the new image be denoted by s\n",
    "# If r<T, s= 0\n",
    "# If r>T, s=255\n",
    "  \n",
    "T = 150\n",
    " \n",
    "# create an array of zeros\n",
    "img_thresh = np.zeros((m,n), dtype = int)"
   ]
  },
  {
   "cell_type": "code",
   "execution_count": 8,
   "id": "a05da694",
   "metadata": {},
   "outputs": [],
   "source": [
    "for i in range(m):\n",
    "     \n",
    "    for j in range(n):\n",
    "         \n",
    "        if img[i,j] <  T:\n",
    "            img_thresh[i,j]= 0\n",
    "        else:\n",
    "            img_thresh[i,j] = 255"
   ]
  },
  {
   "cell_type": "code",
   "execution_count": 9,
   "id": "d36e4cc3",
   "metadata": {},
   "outputs": [],
   "source": [
    "# Convert array to png image\n",
    "cv2.imwrite('Cameraman_Thresh.png', img_thresh)\n",
    "  \n",
    "# the lower threshold value\n",
    "T1 = 100\n",
    " \n",
    "# the upper threshold value\n",
    "T2 = 180\n",
    " "
   ]
  },
  {
   "cell_type": "code",
   "execution_count": 10,
   "id": "fe5f1464",
   "metadata": {},
   "outputs": [
    {
     "data": {
      "text/plain": [
       "True"
      ]
     },
     "execution_count": 10,
     "metadata": {},
     "output_type": "execute_result"
    }
   ],
   "source": [
    "# create an array of zeros\n",
    "img_thresh_back = np.zeros((m,n), dtype = int)\n",
    "  \n",
    "for i in range(m):\n",
    "     \n",
    "    for j in range(n):\n",
    "         \n",
    "        if T1 < img[i,j] < T2:\n",
    "            img_thresh_back[i,j]= 255\n",
    "        else:\n",
    "            img_thresh_back[i,j] = img[i,j]\n",
    " \n",
    "# Convert array to  png image\n",
    "cv2.imwrite('Cameraman_Thresh_Back.png', img_thresh_back)"
   ]
  },
  {
   "cell_type": "code",
   "execution_count": null,
   "id": "bb5bbb04",
   "metadata": {},
   "outputs": [],
   "source": []
  }
 ],
 "metadata": {
  "kernelspec": {
   "display_name": "Python 3 (ipykernel)",
   "language": "python",
   "name": "python3"
  },
  "language_info": {
   "codemirror_mode": {
    "name": "ipython",
    "version": 3
   },
   "file_extension": ".py",
   "mimetype": "text/x-python",
   "name": "python",
   "nbconvert_exporter": "python",
   "pygments_lexer": "ipython3",
   "version": "3.9.7"
  }
 },
 "nbformat": 4,
 "nbformat_minor": 5
}
