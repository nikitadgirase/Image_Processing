{
 "cells": [
  {
   "cell_type": "code",
   "execution_count": null,
   "id": "3b4bb89f",
   "metadata": {},
   "outputs": [],
   "source": [
    "# Python program to illustrate\n",
    "# arithmetic operation of\n",
    "# addition of two images\n",
    "\t\n",
    "# organizing imports\n",
    "import cv2\n",
    "import numpy as np\n",
    "\t\n",
    "# path to input images are specified and\n",
    "# images are loaded with imread command\n",
    "image1 = cv2.imread('input1.jpg')\n",
    "image2 = cv2.imread('input2.jpg')\n",
    "\n",
    "# cv2.addWeighted is applied over the\n",
    "# image inputs with applied parameters\n",
    "weightedSum = cv2.addWeighted(image1, 0.5, image2, 0.4, 0)\n",
    "\n",
    "# the window showing output image\n",
    "# with the weighted sum\n",
    "cv2.imshow('Weighted Image', weightedSum)\n",
    "\n",
    "# De-allocate any associated memory usage\n",
    "if cv2.waitKey(0) & 0xff == 27:\n",
    "\tcv2.destroyAllWindows()\n"
   ]
  },
  {
   "cell_type": "code",
   "execution_count": null,
   "id": "44cd40a6",
   "metadata": {},
   "outputs": [],
   "source": [
    "# Python program to illustrate\n",
    "# arithmetic operation of\n",
    "# subtraction of pixels of two images\n",
    "\n",
    "# organizing imports\n",
    "import cv2\n",
    "import numpy as np\n",
    "\t\n",
    "# path to input images are specified and\n",
    "# images are loaded with imread command\n",
    "image1 = cv2.imread('input1.jpg')\n",
    "image2 = cv2.imread('input2.jpg')\n",
    "\n",
    "# cv2.subtract is applied over the\n",
    "# image inputs with applied parameters\n",
    "sub = cv2.subtract(image1, image2)\n",
    "\n",
    "# the window showing output image\n",
    "# with the subtracted image\n",
    "cv2.imshow('Subtracted Image', sub)\n",
    "\n",
    "# De-allocate any associated memory usage\n",
    "if cv2.waitKey(0) & 0xff == 27:\n",
    "\tcv2.destroyAllWindows()\n"
   ]
  },
  {
   "cell_type": "code",
   "execution_count": 2,
   "id": "b3548a87",
   "metadata": {},
   "outputs": [
    {
     "ename": "SyntaxError",
     "evalue": "invalid syntax (Temp/ipykernel_2520/3371121000.py, line 3)",
     "output_type": "error",
     "traceback": [
      "\u001b[1;36m  File \u001b[1;32m\"C:\\Users\\RCPIT\\AppData\\Local\\Temp/ipykernel_2520/3371121000.py\"\u001b[1;36m, line \u001b[1;32m3\u001b[0m\n\u001b[1;33m    img1 = cv2.imread('cameraman1.png') img2 = cv2.imread('cameraman2.png')\u001b[0m\n\u001b[1;37m                                        ^\u001b[0m\n\u001b[1;31mSyntaxError\u001b[0m\u001b[1;31m:\u001b[0m invalid syntax\n"
     ]
    }
   ],
   "source": [
    "import cv2\n",
    "import numpy as np\n",
    "img1 = cv2.imread('cameraman1.png') \n",
    "img2 = cv2.imread('cameraman2.png')\n",
    "dest_and = cv2.bitwise_and(img2, img1, mask = None) \n",
    "cv2.imshow('Bitwise And', dest_and)\n",
    "cv2.waitKey(0)\n",
    " "
   ]
  },
  {
   "cell_type": "code",
   "execution_count": null,
   "id": "d8e68456",
   "metadata": {},
   "outputs": [],
   "source": [
    "import cv2\n",
    "import numpy as np\n",
    "img1 = cv2.imread('input1.png')\n",
    "img2 = cv2.imread('input2.png')\n",
    "dest_or = cv2.bitwise_or(img1, img2, mask = None) \n",
    "cv2.imshow('Bitwise OR', dest_or)\n",
    "cv2.waitKey(0) \n"
   ]
  },
  {
   "cell_type": "code",
   "execution_count": null,
   "id": "f3fd9680",
   "metadata": {},
   "outputs": [],
   "source": [
    "import cv2\n",
    "import numpy as np\n",
    "img1 = cv2.imread('input1.png')\n",
    "dest_not = cv2.bitwise_not(img1, mask = None) \n",
    "cv2.imshow('Bitwise Not', dest_not) cv2.waitKey(0)\n"
   ]
  },
  {
   "cell_type": "code",
   "execution_count": null,
   "id": "5047aea3",
   "metadata": {},
   "outputs": [],
   "source": [
    "import cv2\n",
    "import numpy as np\n",
    "img1 = cv2.imread('input1.png')\n",
    "img2 = cv2.imread('input2.png')\n",
    "dest_or = cv2.bitwise_xor(img1, img2, mask = None) \n",
    "cv2.imshow('Bitwise XOR', dest_xor) cv2.waitKey(0)\n",
    " \n"
   ]
  }
 ],
 "metadata": {
  "kernelspec": {
   "display_name": "Python 3 (ipykernel)",
   "language": "python",
   "name": "python3"
  },
  "language_info": {
   "codemirror_mode": {
    "name": "ipython",
    "version": 3
   },
   "file_extension": ".py",
   "mimetype": "text/x-python",
   "name": "python",
   "nbconvert_exporter": "python",
   "pygments_lexer": "ipython3",
   "version": "3.9.7"
  }
 },
 "nbformat": 4,
 "nbformat_minor": 5
}
