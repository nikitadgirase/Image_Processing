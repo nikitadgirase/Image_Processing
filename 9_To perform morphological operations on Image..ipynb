{
 "cells": [
  {
   "cell_type": "code",
   "execution_count": null,
   "id": "683f1ed5",
   "metadata": {},
   "outputs": [],
   "source": [
    "# Python program to illustrate\n",
    "# Closing morphological operation\n",
    "# on an image\n",
    "\n",
    "# organizing imports\n",
    "import cv2\n",
    "import numpy as np\n",
    "\n",
    "# return video from the first webcam on your computer.\n",
    "screenRead = cv2.VideoCapture(0)\n",
    "\n",
    "# loop runs if capturing has been initialized.\n",
    "while(1):\n",
    "\t# reads frames from a camera\n",
    "\t_, image = screenRead.read()\n",
    "\t\n",
    "\t# Converts to HSV color space, OCV reads colors as BGR\n",
    "\t# frame is converted to hsv\n",
    "\thsv = cv2.cvtColor(image, cv2.COLOR_BGR2HSV)\n",
    "\t\n",
    "\t# defining the range of masking\n",
    "\tblue1 = np.array([110, 50, 50])\n",
    "\tblue2 = np.array([130, 255, 255])\n",
    "\t\n",
    "\t# initializing the mask to be\n",
    "\t# convoluted over input image\n",
    "\tmask = cv2.inRange(hsv, blue1, blue2)\n",
    "\n",
    "\t# passing the bitwise_and over\n",
    "\t# each pixel convoluted\n",
    "\tres = cv2.bitwise_and(image, image, mask = mask)\n",
    "\t\n",
    "\t# defining the kernel i.e. Structuring element\n",
    "\tkernel = np.ones((5, 5), np.uint8)\n",
    "\t\n",
    "\t# defining the closing function\n",
    "\t# over the image and structuring element\n",
    "\tclosing = cv2.morphologyEx(mask, cv2.MORPH_CLOSE, kernel)\n",
    "\t\n",
    "\t# The mask and closing operation\n",
    "\t# is shown in the window\n",
    "\tcv2.imshow('Mask', mask)\n",
    "\tcv2.imshow('Closing', closing)\n",
    "\t\n",
    "\t# Wait for 'a' key to stop the program\n",
    "\tif cv2.waitKey(1) & 0xFF == ord('a'):\n",
    "\t\tbreak\n",
    "\n",
    "# De-allocate any associated memory usage\n",
    "cv2.destroyAllWindows()\n",
    "\n",
    "# Close the window / Release webcam\n",
    "screenRead.release()\n"
   ]
  }
 ],
 "metadata": {
  "kernelspec": {
   "display_name": "Python 3 (ipykernel)",
   "language": "python",
   "name": "python3"
  },
  "language_info": {
   "codemirror_mode": {
    "name": "ipython",
    "version": 3
   },
   "file_extension": ".py",
   "mimetype": "text/x-python",
   "name": "python",
   "nbconvert_exporter": "python",
   "pygments_lexer": "ipython3",
   "version": "3.11.0"
  }
 },
 "nbformat": 4,
 "nbformat_minor": 5
}
