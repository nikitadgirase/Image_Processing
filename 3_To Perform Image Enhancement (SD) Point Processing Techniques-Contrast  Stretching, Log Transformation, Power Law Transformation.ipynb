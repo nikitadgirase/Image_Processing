{
 "cells": [
  {
   "cell_type": "code",
   "execution_count": 1,
   "id": "fd5c5b3c",
   "metadata": {},
   "outputs": [
    {
     "name": "stderr",
     "output_type": "stream",
     "text": [
      "C:\\Users\\Nikita\\AppData\\Local\\Temp\\ipykernel_2572\\2087463654.py:7: RuntimeWarning: divide by zero encountered in log\n",
      "  log_transformed = c * np.log(1 + img)\n"
     ]
    },
    {
     "data": {
      "text/plain": [
       "True"
      ]
     },
     "execution_count": 1,
     "metadata": {},
     "output_type": "execute_result"
    }
   ],
   "source": [
    "#Below is the code to apply log transformation to the image.\n",
    "import cv2\n",
    "import numpy as np\n",
    "# Open the image.\n",
    "img = cv2.imread('swag.jpeg')\n",
    "# Apply log transform.\n",
    "c = 255/(np.log(1 + np.max(img)))\n",
    "log_transformed = c * np.log(1 + img)\n",
    "# Specify the data type.\n",
    "log_transformed = np.array(log_transformed, dtype = np.uint8)\n",
    "# Save the output.\n",
    "cv2.imwrite('log_transformed.jpg', log_transformed)"
   ]
  },
  {
   "cell_type": "code",
   "execution_count": 3,
   "id": "bb05a319",
   "metadata": {},
   "outputs": [
    {
     "ename": "SyntaxError",
     "evalue": "invalid syntax (1979144379.py, line 11)",
     "output_type": "error",
     "traceback": [
      "\u001b[1;36m  Cell \u001b[1;32mIn[3], line 11\u001b[1;36m\u001b[0m\n\u001b[1;33m    Below are the gamma-corrected outputs for different values of gamma.\u001b[0m\n\u001b[1;37m          ^\u001b[0m\n\u001b[1;31mSyntaxError\u001b[0m\u001b[1;31m:\u001b[0m invalid syntax\n"
     ]
    }
   ],
   "source": [
    "#Program:Power Law Transformation\n",
    "import cv2\n",
    "import numpy as np\n",
    "# Open the image.\n",
    "img = cv2.imread('swag.jpeg')\n",
    "# Trying 4 gamma values.\n",
    "for gamma in [0.1, 0.5, 1.2, 2.2]:\n",
    "    gamma_corrected = np.array(255*(img / 255) ** gamma, dtype = 'uint8')\n",
    "# Save edited images.\n",
    "cv2.imwrite('gamma_transformed'+str(gamma)+'.jpg', gamma_corrected)\n",
    "Below are the gamma-corrected outputs for different values of gamma.\n"
   ]
  },
  {
   "cell_type": "code",
   "execution_count": null,
   "id": "cdcbd420",
   "metadata": {},
   "outputs": [],
   "source": []
  }
 ],
 "metadata": {
  "kernelspec": {
   "display_name": "Python 3 (ipykernel)",
   "language": "python",
   "name": "python3"
  },
  "language_info": {
   "codemirror_mode": {
    "name": "ipython",
    "version": 3
   },
   "file_extension": ".py",
   "mimetype": "text/x-python",
   "name": "python",
   "nbconvert_exporter": "python",
   "pygments_lexer": "ipython3",
   "version": "3.11.0"
  }
 },
 "nbformat": 4,
 "nbformat_minor": 5
}
